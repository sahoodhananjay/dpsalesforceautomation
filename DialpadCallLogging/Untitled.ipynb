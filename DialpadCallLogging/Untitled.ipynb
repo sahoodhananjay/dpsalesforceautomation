{
 "cells": [
  {
   "cell_type": "code",
   "execution_count": 1,
   "id": "4fe469f6-e362-473d-a25b-183b80e93f23",
   "metadata": {},
   "outputs": [],
   "source": [
    "import os\n",
    "from requests.auth import HTTPBasicAuth\n",
    "import requests\n",
    "import json\n",
    "from datetime import datetime, date, timedelta\n",
    "import time\n",
    "import re\n",
    "from bs4 import BeautifulSoup\n",
    "import datetime, calendar\n",
    "import pandas as pd\n",
    "import numpy as np\n",
    "import csv\n",
    "import itertools\n",
    "import sys\n",
    "import warnings\n",
    "warnings.filterwarnings(\"ignore\")"
   ]
  },
  {
   "cell_type": "code",
   "execution_count": 3,
   "id": "2b573ef8-b35e-488b-abd8-f43747d0e6a5",
   "metadata": {},
   "outputs": [],
   "source": [
    "account = [\"0012g00000GIzQLAA1\",\"0012g00000XbMXnAAN\"]\n",
    "lead = [\"00Q2g000001vSQpEAM\",\"00QD10000051AjGMAU\"]\n",
    "contact = [\"003D100000YHTUkIAP\",\"0032g00000JZll3AAD\"]\n",
    "opportunity = [\"0062g000006fMgPAAU\",\"0062g000006AU2jAAG\"]\n",
    "case = [\"500D10000071kl1IAA\",\"500D10000076e1fIAA\"]\n",
    "client_id = \"3MVG9lJB4lV8F4SjmARl5MZK9SAOilZcsIvqIcAi_dywh5X9wziXqwVfd0EI2GkJT5.MWvjEdpTJs6zpFvBYp\"\n",
    "client_secret = \"B1D82F34744A98877E348E2BDF3FE61761C67997A616658F80779B3B95F2D12E\"\n",
    "username = \"dsahoo@dialpad.com.dfs.qa\"\n",
    "password = \"P@$$word654321\"\n",
    "sf_instance = \"https://dialpad-qa-dfs--qasandbox.sandbox.my.salesforce.com\""
   ]
  },
  {
   "cell_type": "code",
   "execution_count": 5,
   "id": "a1a1240c-f9e8-4663-83e0-aa35c15175fa",
   "metadata": {},
   "outputs": [
    {
     "name": "stdout",
     "output_type": "stream",
     "text": [
      "URL: https://test.salesforce.com/services/oauth2/token?grant_type=password&client_id=3MVG9lJB4lV8F4SjmARl5MZK9SAOilZcsIvqIcAi_dywh5X9wziXqwVfd0EI2GkJT5.MWvjEdpTJs6zpFvBYp&client_secret=B1D82F34744A98877E348E2BDF3FE61761C67997A616658F80779B3B95F2D12E&username=dsahoo@dialpad.com.dfs.qa&password=P@$$word654321\n",
      "{'access_token': '00D2g0000008eUE!ASAAQKYSHDelfSJpzTCGo6jFXXzmvYw7bxsTbFX5G6MDvSRV3_AcRut9d5yX8Q.XDhm8_N_lW7yYj._XLsFst9NbHJmFTiRq', 'instance_url': 'https://dialpad-qa-dfs--qasandbox.sandbox.my.salesforce.com', 'id': 'https://test.salesforce.com/id/00D2g0000008eUEEAY/0052g000001FQciAAG', 'token_type': 'Bearer', 'issued_at': '1741595534561', 'signature': '+8lNLWj9r4kLrT/t3KdC17smCCGqfoDDkaPe1Ix5NqU='}\n"
     ]
    }
   ],
   "source": [
    "api_url = \"https://test.salesforce.com/services/oauth2/token?grant_type=password&client_id=\"+ client_id + \"&client_secret=\"+ client_secret + \"&username=\" + username +\"&password=\"+ password\n",
    "print(\"URL:\", api_url)\n",
    "r = requests.post(api_url, auth=HTTPBasicAuth(username, password))\n",
    "soup = BeautifulSoup(r.content, 'html5lib')\n",
    "content = soup.get_text()\n",
    "json_content = json.loads(soup.text)\n",
    "print(json_content)"
   ]
  },
  {
   "cell_type": "code",
   "execution_count": 7,
   "id": "cae7b137-7632-45b0-9493-6b8944ab1653",
   "metadata": {},
   "outputs": [],
   "source": [
    "test = {'totalSize': 1, 'done': True, 'records': [{'attributes': {'type': 'Dialpad__Call_Log__c', 'url': '/services/data/v56.0/sobjects/Dialpad__Call_Log__c/a09D100000H9YpyIAF'}, 'Dialpad__Linked_Task_ID__c': '00TD100000EPxSRMA1'}]}"
   ]
  },
  {
   "cell_type": "code",
   "execution_count": 13,
   "id": "2dbccc5f-3c9c-4c5b-8550-b9239b9f1403",
   "metadata": {},
   "outputs": [
    {
     "data": {
      "text/plain": [
       "'00TD100000EPxSRMA1'"
      ]
     },
     "execution_count": 13,
     "metadata": {},
     "output_type": "execute_result"
    }
   ],
   "source": [
    "test['records'][0]['Dialpad__Linked_Task_ID__c']"
   ]
  },
  {
   "cell_type": "code",
   "execution_count": 15,
   "id": "e689cc6a-f4e9-4351-9ed7-bd0162a7ffe4",
   "metadata": {},
   "outputs": [],
   "source": [
    "task = {'totalSize': 1, 'done': True, 'records': [{'attributes': {'type': 'Task', 'url': '/services/data/v56.0/sobjects/Task/00TD100000EPxTqMAL'}, 'WhatId': None, 'WhoId': None}]}\n"
   ]
  },
  {
   "cell_type": "code",
   "execution_count": 23,
   "id": "a3defe16-20ce-4599-8616-bf37046bd24f",
   "metadata": {},
   "outputs": [
    {
     "ename": "TypeError",
     "evalue": "'NoneType' object is not subscriptable",
     "output_type": "error",
     "traceback": [
      "\u001b[1;31m---------------------------------------------------------------------------\u001b[0m",
      "\u001b[1;31mTypeError\u001b[0m                                 Traceback (most recent call last)",
      "Cell \u001b[1;32mIn[23], line 1\u001b[0m\n\u001b[1;32m----> 1\u001b[0m task[\u001b[38;5;124m'\u001b[39m\u001b[38;5;124mrecords\u001b[39m\u001b[38;5;124m'\u001b[39m][\u001b[38;5;241m0\u001b[39m][\u001b[38;5;124m'\u001b[39m\u001b[38;5;124mWhatId\u001b[39m\u001b[38;5;124m'\u001b[39m][\u001b[38;5;124m'\u001b[39m\u001b[38;5;124mWhoId\u001b[39m\u001b[38;5;124m'\u001b[39m]\n",
      "\u001b[1;31mTypeError\u001b[0m: 'NoneType' object is not subscriptable"
     ]
    }
   ],
   "source": [
    "task['records'][0]['WhatId']"
   ]
  },
  {
   "cell_type": "code",
   "execution_count": 25,
   "id": "f7f417c5-a5a6-4429-a8fb-d22427b9ae3a",
   "metadata": {},
   "outputs": [],
   "source": [
    "task['records'][0]['WhoId']"
   ]
  },
  {
   "cell_type": "code",
   "execution_count": null,
   "id": "e8284b73-10c3-4801-bce4-cc40ce14cf2b",
   "metadata": {},
   "outputs": [],
   "source": []
  }
 ],
 "metadata": {
  "kernelspec": {
   "display_name": "Python [conda env:base] *",
   "language": "python",
   "name": "conda-base-py"
  },
  "language_info": {
   "codemirror_mode": {
    "name": "ipython",
    "version": 3
   },
   "file_extension": ".py",
   "mimetype": "text/x-python",
   "name": "python",
   "nbconvert_exporter": "python",
   "pygments_lexer": "ipython3",
   "version": "3.12.7"
  }
 },
 "nbformat": 4,
 "nbformat_minor": 5
}
